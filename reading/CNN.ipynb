{
 "cells": [
  {
   "cell_type": "code",
   "execution_count": 1,
   "metadata": {
    "tags": []
   },
   "outputs": [],
   "source": [
    "\n",
    "import matplotlib.pyplot as plt\n",
    "import numpy as np\n",
    "import scipy\n",
    "import pandas as pd\n"
   ]
  },
  {
   "cell_type": "code",
   "execution_count": 2,
   "metadata": {
    "tags": []
   },
   "outputs": [
    {
     "data": {
      "text/html": [
       "<div>\n",
       "<style scoped>\n",
       "    .dataframe tbody tr th:only-of-type {\n",
       "        vertical-align: middle;\n",
       "    }\n",
       "\n",
       "    .dataframe tbody tr th {\n",
       "        vertical-align: top;\n",
       "    }\n",
       "\n",
       "    .dataframe thead th {\n",
       "        text-align: right;\n",
       "    }\n",
       "</style>\n",
       "<table border=\"1\" class=\"dataframe\">\n",
       "  <thead>\n",
       "    <tr style=\"text-align: right;\">\n",
       "      <th></th>\n",
       "      <th>emotion</th>\n",
       "      <th>pixels</th>\n",
       "      <th>Usage</th>\n",
       "    </tr>\n",
       "  </thead>\n",
       "  <tbody>\n",
       "    <tr>\n",
       "      <th>0</th>\n",
       "      <td>0</td>\n",
       "      <td>70 80 82 72 58 58 60 63 54 58 60 48 89 115 121...</td>\n",
       "      <td>Training</td>\n",
       "    </tr>\n",
       "    <tr>\n",
       "      <th>1</th>\n",
       "      <td>0</td>\n",
       "      <td>151 150 147 155 148 133 111 140 170 174 182 15...</td>\n",
       "      <td>Training</td>\n",
       "    </tr>\n",
       "    <tr>\n",
       "      <th>2</th>\n",
       "      <td>2</td>\n",
       "      <td>231 212 156 164 174 138 161 173 182 200 106 38...</td>\n",
       "      <td>Training</td>\n",
       "    </tr>\n",
       "    <tr>\n",
       "      <th>3</th>\n",
       "      <td>4</td>\n",
       "      <td>24 32 36 30 32 23 19 20 30 41 21 22 32 34 21 1...</td>\n",
       "      <td>Training</td>\n",
       "    </tr>\n",
       "    <tr>\n",
       "      <th>4</th>\n",
       "      <td>6</td>\n",
       "      <td>4 0 0 0 0 0 0 0 0 0 0 0 3 15 23 28 48 50 58 84...</td>\n",
       "      <td>Training</td>\n",
       "    </tr>\n",
       "  </tbody>\n",
       "</table>\n",
       "</div>"
      ],
      "text/plain": [
       "   emotion                                             pixels     Usage\n",
       "0        0  70 80 82 72 58 58 60 63 54 58 60 48 89 115 121...  Training\n",
       "1        0  151 150 147 155 148 133 111 140 170 174 182 15...  Training\n",
       "2        2  231 212 156 164 174 138 161 173 182 200 106 38...  Training\n",
       "3        4  24 32 36 30 32 23 19 20 30 41 21 22 32 34 21 1...  Training\n",
       "4        6  4 0 0 0 0 0 0 0 0 0 0 0 3 15 23 28 48 50 58 84...  Training"
      ]
     },
     "execution_count": 2,
     "metadata": {},
     "output_type": "execute_result"
    }
   ],
   "source": [
    "df = pd.read_csv('./fer2013.csv')\n",
    "df.head()"
   ]
  },
  {
   "cell_type": "code",
   "execution_count": 3,
   "metadata": {
    "tags": []
   },
   "outputs": [
    {
     "name": "stdout",
     "output_type": "stream",
     "text": [
      "<class 'pandas.core.frame.DataFrame'>\n",
      "RangeIndex: 35887 entries, 0 to 35886\n",
      "Data columns (total 3 columns):\n",
      " #   Column   Non-Null Count  Dtype \n",
      "---  ------   --------------  ----- \n",
      " 0   emotion  35887 non-null  int64 \n",
      " 1   pixels   35887 non-null  object\n",
      " 2   Usage    35887 non-null  object\n",
      "dtypes: int64(1), object(2)\n",
      "memory usage: 841.2+ KB\n"
     ]
    }
   ],
   "source": [
    "df.info()"
   ]
  },
  {
   "cell_type": "code",
   "execution_count": 4,
   "metadata": {
    "tags": []
   },
   "outputs": [
    {
     "data": {
      "text/plain": [
       "Training       28709\n",
       "PublicTest      3589\n",
       "PrivateTest     3589\n",
       "Name: Usage, dtype: int64"
      ]
     },
     "execution_count": 4,
     "metadata": {},
     "output_type": "execute_result"
    }
   ],
   "source": [
    "#Assigning Names to Emotions in labels\n",
    "\n",
    "num_classes = 7\n",
    "width = 48\n",
    "height = 48\n",
    "emotion_labels = [\"Angry\", \"Disgust\", \"Fear\", \"Happy\", \"Sad\", \"Surprise\", \"Neutral\"]\n",
    "classes=np.array((\"Angry\", \"Disgust\", \"Fear\", \"Happy\", \"Sad\", \"Surprise\", \"Neutral\"))\n",
    "df.Usage.value_counts() "
   ]
  },
  {
   "cell_type": "code",
   "execution_count": 5,
   "metadata": {
    "tags": []
   },
   "outputs": [],
   "source": [
    "k = np.array(list(map(int,df.iloc[0,1].split(\" \"))),dtype='uint8').reshape((48,48))"
   ]
  },
  {
   "cell_type": "code",
   "execution_count": 6,
   "metadata": {
    "tags": []
   },
   "outputs": [
    {
     "data": {
      "text/plain": [
       "(48, 48)"
      ]
     },
     "execution_count": 6,
     "metadata": {},
     "output_type": "execute_result"
    }
   ],
   "source": [
    "k.shape"
   ]
  },
  {
   "cell_type": "code",
   "execution_count": 7,
   "metadata": {
    "tags": []
   },
   "outputs": [],
   "source": [
    "X_train = []\n",
    "y_train = []\n",
    "X_test = []\n",
    "y_test = []\n",
    "for index, row in df.iterrows():\n",
    "    k = row['pixels'].split(\" \")\n",
    "    if row['Usage'] == 'Training':\n",
    "        X_train.append(np.array(k))\n",
    "        y_train.append(row['emotion'])\n",
    "    elif row['Usage'] == 'PublicTest':\n",
    "        X_test.append(np.array(k))\n",
    "        y_test.append(row['emotion'])"
   ]
  },
  {
   "cell_type": "code",
   "execution_count": 8,
   "metadata": {
    "tags": []
   },
   "outputs": [
    {
     "data": {
      "text/plain": [
       "array(['70', '80', '82', ..., '106', '109', '82'], dtype='<U3')"
      ]
     },
     "execution_count": 8,
     "metadata": {},
     "output_type": "execute_result"
    }
   ],
   "source": [
    "X_train[0]"
   ]
  },
  {
   "cell_type": "code",
   "execution_count": 9,
   "metadata": {
    "tags": []
   },
   "outputs": [
    {
     "data": {
      "text/plain": [
       "<matplotlib.image.AxesImage at 0x12af304f0>"
      ]
     },
     "execution_count": 9,
     "metadata": {},
     "output_type": "execute_result"
    },
    {
     "data": {
      "image/png": "[encoded data removed]",
      "text/plain": [
       "<Figure size 640x480 with 1 Axes>"
      ]
     },
     "metadata": {},
     "output_type": "display_data"
    }
   ],
   "source": [
    "plt.imshow(np.array(X_train[0], dtype = 'uint8').reshape(48,48,1), cmap = 'gray')"
   ]
  },
  {
   "cell_type": "code",
   "execution_count": 10,
   "metadata": {
    "tags": []
   },
   "outputs": [],
   "source": [
    "X_train = np.array(X_train, dtype = 'uint8')\n",
    "y_train = np.array(y_train, dtype = 'uint8')\n",
    "X_test = np.array(X_test, dtype = 'uint8')\n",
    "y_test = np.array(y_test, dtype = 'uint8')"
   ]
  },
  {
   "cell_type": "code",
   "execution_count": 11,
   "metadata": {
    "tags": []
   },
   "outputs": [],
   "source": [
    "X_train = X_train.reshape(X_train.shape[0], 48, 48, 1)\n",
    "X_test = X_test.reshape(X_test.shape[0], 48, 48, 1)"
   ]
  },
  {
   "cell_type": "code",
   "execution_count": 12,
   "metadata": {
    "tags": []
   },
   "outputs": [
    {
     "data": {
      "text/plain": [
       "(28709, 48, 48, 1)"
      ]
     },
     "execution_count": 12,
     "metadata": {},
     "output_type": "execute_result"
    }
   ],
   "source": [
    "X_train.shape"
   ]
  },
  {
   "cell_type": "code",
   "execution_count": 13,
   "metadata": {
    "tags": []
   },
   "outputs": [],
   "source": [
    "\n",
    "from keras.utils import to_categorical\n",
    "y_train= to_categorical(y_train, num_classes=7)\n",
    "y_test = to_categorical(y_test, num_classes=7)"
   ]
  },
  {
   "cell_type": "code",
   "execution_count": 14,
   "metadata": {
    "tags": []
   },
   "outputs": [],
   "source": [
    "from keras.preprocessing.image import ImageDataGenerator \n",
    "datagen = ImageDataGenerator( \n",
    "    rescale=1./255,\n",
    "    rotation_range = 10,\n",
    "    horizontal_flip = True,\n",
    "    width_shift_range=0.1,\n",
    "    height_shift_range=0.1,\n",
    "    fill_mode = 'nearest')\n",
    "\n",
    "testgen = ImageDataGenerator( \n",
    "    rescale=1./255\n",
    "    )\n",
    "datagen.fit(X_train)\n",
    "batch_size = 64"
   ]
  },
  {
   "cell_type": "code",
   "execution_count": 15,
   "metadata": {},
   "outputs": [],
   "source": [
    "train_flow = datagen.flow(X_train, y_train, batch_size=batch_size) \n",
    "test_flow = testgen.flow(X_test, y_test, batch_size=batch_size)"
   ]
  },
  {
   "cell_type": "code",
   "execution_count": 16,
   "metadata": {
    "tags": []
   },
   "outputs": [
    {
     "name": "stderr",
     "output_type": "stream",
     "text": [
      "/var/folders/_r/h3rcv4k93wv7dlb_1fp8b1pr0000gn/T/ipykernel_78194/1113771350.py:4: MatplotlibDeprecationWarning: Auto-removal of overlapping axes is deprecated since 3.6 and will be removed two minor releases later; explicitly call ax.remove() as needed.\n",
      "  plt.subplot(330 + 1 + i)\n"
     ]
    },
    {
     "data": {
      "image/png": "[encoded data removed]",
      "text/plain": [
       "<Figure size 640x480 with 9 Axes>"
      ]
     },
     "metadata": {},
     "output_type": "display_data"
    }
   ],
   "source": [
    "for X_batch, y_batch in datagen.flow(X_train, y_train, batch_size=9):\n",
    "    for i in range(0, 9): \n",
    "        plt.axis('off') \n",
    "        plt.subplot(330 + 1 + i) \n",
    "        plt.imshow(X_batch[i].reshape(48, 48), cmap=plt.get_cmap('gray'))\n",
    "    plt.axis('off') \n",
    "    plt.show() \n",
    "    break\n",
    "    "
   ]
  },
  {
   "cell_type": "code",
   "execution_count": 17,
   "metadata": {
    "tags": []
   },
   "outputs": [],
   "source": [
    "from keras.layers import ZeroPadding2D,Convolution2D,MaxPooling2D,Flatten,Dense,Dropout\n",
    "from keras.models import Sequential"
   ]
  },
  {
   "cell_type": "code",
   "execution_count": 18,
   "metadata": {
    "tags": []
   },
   "outputs": [],
   "source": [
    "from keras.utils import plot_model\n",
    "from keras.models import Model\n",
    "from keras.layers import Input, Dense, Flatten, Dropout, BatchNormalization\n",
    "from keras.layers.convolutional import Conv2D\n",
    "from keras.layers.pooling import MaxPooling2D\n",
    "from keras.layers import concatenate\n",
    "from keras.optimizers import Adam, SGD\n",
    "from keras.regularizers import l1, l2\n",
    "from matplotlib import pyplot as plt\n",
    "from sklearn.metrics import confusion_matrix"
   ]
  },
  {
   "cell_type": "code",
   "execution_count": 19,
   "metadata": {
    "tags": []
   },
   "outputs": [],
   "source": [
    "def FER_Model(input_shape=(48,48,1)):\n",
    "    # first input model\n",
    "    visible = Input(shape=input_shape, name='input')\n",
    "    num_classes = 7\n",
    "    #the 1-st block\n",
    "    conv1_1 = Conv2D(64, kernel_size=3, activation='relu', padding='same', name = 'conv1_1')(visible)\n",
    "    conv1_1 = BatchNormalization()(conv1_1)\n",
    "    conv1_2 = Conv2D(64, kernel_size=3, activation='relu', padding='same', name = 'conv1_2')(conv1_1)\n",
    "    conv1_2 = BatchNormalization()(conv1_2)\n",
    "    pool1_1 = MaxPooling2D(pool_size=(2,2), name = 'pool1_1')(conv1_2)\n",
    "    drop1_1 = Dropout(0.3, name = 'drop1_1')(pool1_1)\n",
    "\n",
    "    #the 2-nd block\n",
    "    conv2_1 = Conv2D(128, kernel_size=3, activation='relu', padding='same', name = 'conv2_1')(drop1_1)\n",
    "    conv2_1 = BatchNormalization()(conv2_1)\n",
    "    conv2_2 = Conv2D(128, kernel_size=3, activation='relu', padding='same', name = 'conv2_2')(conv2_1)\n",
    "    conv2_2 = BatchNormalization()(conv2_2)\n",
    "    conv2_3 = Conv2D(128, kernel_size=3, activation='relu', padding='same', name = 'conv2_3')(conv2_2)\n",
    "    conv2_2 = BatchNormalization()(conv2_3)\n",
    "    pool2_1 = MaxPooling2D(pool_size=(2,2), name = 'pool2_1')(conv2_3)\n",
    "    drop2_1 = Dropout(0.3, name = 'drop2_1')(pool2_1)\n",
    "\n",
    "     #the 3-rd block\n",
    "    conv3_1 = Conv2D(256, kernel_size=3, activation='relu', padding='same', name = 'conv3_1')(drop2_1)\n",
    "    conv3_1 = BatchNormalization()(conv3_1)\n",
    "    conv3_2 = Conv2D(256, kernel_size=3, activation='relu', padding='same', name = 'conv3_2')(conv3_1)\n",
    "    conv3_2 = BatchNormalization()(conv3_2)\n",
    "    conv3_3 = Conv2D(256, kernel_size=3, activation='relu', padding='same', name = 'conv3_3')(conv3_2)\n",
    "    conv3_3 = BatchNormalization()(conv3_3)\n",
    "    conv3_4 = Conv2D(256, kernel_size=3, activation='relu', padding='same', name = 'conv3_4')(conv3_3)\n",
    "    conv3_4 = BatchNormalization()(conv3_4)\n",
    "    pool3_1 = MaxPooling2D(pool_size=(2,2), name = 'pool3_1')(conv3_4)\n",
    "    drop3_1 = Dropout(0.3, name = 'drop3_1')(pool3_1)\n",
    "\n",
    "    #the 4-th block\n",
    "    conv4_1 = Conv2D(256, kernel_size=3, activation='relu', padding='same', name = 'conv4_1')(drop3_1)\n",
    "    conv4_1 = BatchNormalization()(conv4_1)\n",
    "    conv4_2 = Conv2D(256, kernel_size=3, activation='relu', padding='same', name = 'conv4_2')(conv4_1)\n",
    "    conv4_2 = BatchNormalization()(conv4_2)\n",
    "    conv4_3 = Conv2D(256, kernel_size=3, activation='relu', padding='same', name = 'conv4_3')(conv4_2)\n",
    "    conv4_3 = BatchNormalization()(conv4_3)\n",
    "    conv4_4 = Conv2D(256, kernel_size=3, activation='relu', padding='same', name = 'conv4_4')(conv4_3)\n",
    "    conv4_4 = BatchNormalization()(conv4_4)\n",
    "    pool4_1 = MaxPooling2D(pool_size=(2,2), name = 'pool4_1')(conv4_4)\n",
    "    drop4_1 = Dropout(0.3, name = 'drop4_1')(pool4_1)\n",
    "    \n",
    "    #the 5-th block\n",
    "    conv5_1 = Conv2D(512, kernel_size=3, activation='relu', padding='same', name = 'conv5_1')(drop4_1)\n",
    "    conv5_1 = BatchNormalization()(conv5_1)\n",
    "    conv5_2 = Conv2D(512, kernel_size=3, activation='relu', padding='same', name = 'conv5_2')(conv5_1)\n",
    "    conv5_2 = BatchNormalization()(conv5_2)\n",
    "    conv5_3 = Conv2D(512, kernel_size=3, activation='relu', padding='same', name = 'conv5_3')(conv5_2)\n",
    "    conv5_3 = BatchNormalization()(conv5_3)\n",
    "    conv5_4 = Conv2D(512, kernel_size=3, activation='relu', padding='same', name = 'conv5_4')(conv5_3)\n",
    "    conv5_3 = BatchNormalization()(conv5_3)\n",
    "    pool5_1 = MaxPooling2D(pool_size=(2,2), name = 'pool5_1')(conv5_4)\n",
    "    drop5_1 = Dropout(0.3, name = 'drop5_1')(pool5_1)\n",
    "\n",
    "    #Flatten and output\n",
    "    flatten = Flatten(name = 'flatten')(drop5_1)\n",
    "    ouput = Dense(num_classes, activation='softmax', name = 'output')(flatten)\n",
    "\n",
    "    # create model \n",
    "    model = Model(inputs =visible, outputs = ouput)\n",
    "    # summary layers\n",
    "    print(model.summary())\n",
    "    \n",
    "    return model"
   ]
  },
  {
   "cell_type": "code",
   "execution_count": 20,
   "metadata": {
    "tags": []
   },
   "outputs": [
    {
     "name": "stdout",
     "output_type": "stream",
     "text": [
      "Metal device set to: Apple M1\n"
     ]
    },
    {
     "name": "stderr",
     "output_type": "stream",
     "text": [
      "2023-03-27 16:15:42.982895: I tensorflow/core/common_runtime/pluggable_device/pluggable_device_factory.cc:306] Could not identify NUMA node of platform GPU ID 0, defaulting to 0. Your kernel may not have been built with NUMA support.\n",
      "2023-03-27 16:15:42.983107: I tensorflow/core/common_runtime/pluggable_device/pluggable_device_factory.cc:272] Created TensorFlow device (/job:localhost/replica:0/task:0/device:GPU:0 with 0 MB memory) -> physical PluggableDevice (device: 0, name: METAL, pci bus id: <undefined>)\n"
     ]
    },
    {
     "name": "stdout",
     "output_type": "stream",
     "text": [
      "Model: \"model\"\n",
      "_________________________________________________________________\n",
      " Layer (type)                Output Shape              Param #   \n",
      "=================================================================\n",
      " input (InputLayer)          [(None, 48, 48, 1)]       0         \n",
      "                                                                 \n",
      " conv1_1 (Conv2D)            (None, 48, 48, 64)        640       \n",
      "                                                                 \n",
      " batch_normalization (BatchN  (None, 48, 48, 64)       256       \n",
      " ormalization)                                                   \n",
      "                                                                 \n",
      " conv1_2 (Conv2D)            (None, 48, 48, 64)        36928     \n",
      "                                                                 \n",
      " batch_normalization_1 (Batc  (None, 48, 48, 64)       256       \n",
      " hNormalization)                                                 \n",
      "                                                                 \n",
      " pool1_1 (MaxPooling2D)      (None, 24, 24, 64)        0         \n",
      "                                                                 \n",
      " drop1_1 (Dropout)           (None, 24, 24, 64)        0         \n",
      "                                                                 \n",
      " conv2_1 (Conv2D)            (None, 24, 24, 128)       73856     \n",
      "                                                                 \n",
      " batch_normalization_2 (Batc  (None, 24, 24, 128)      512       \n",
      " hNormalization)                                                 \n",
      "                                                                 \n",
      " conv2_2 (Conv2D)            (None, 24, 24, 128)       147584    \n",
      "                                                                 \n",
      " batch_normalization_3 (Batc  (None, 24, 24, 128)      512       \n",
      " hNormalization)                                                 \n",
      "                                                                 \n",
      " conv2_3 (Conv2D)            (None, 24, 24, 128)       147584    \n",
      "                                                                 \n",
      " pool2_1 (MaxPooling2D)      (None, 12, 12, 128)       0         \n",
      "                                                                 \n",
      " drop2_1 (Dropout)           (None, 12, 12, 128)       0         \n",
      "                                                                 \n",
      " conv3_1 (Conv2D)            (None, 12, 12, 256)       295168    \n",
      "                                                                 \n",
      " batch_normalization_5 (Batc  (None, 12, 12, 256)      1024      \n",
      " hNormalization)                                                 \n",
      "                                                                 \n",
      " conv3_2 (Conv2D)            (None, 12, 12, 256)       590080    \n",
      "                                                                 \n",
      " batch_normalization_6 (Batc  (None, 12, 12, 256)      1024      \n",
      " hNormalization)                                                 \n",
      "                                                                 \n",
      " conv3_3 (Conv2D)            (None, 12, 12, 256)       590080    \n",
      "                                                                 \n",
      " batch_normalization_7 (Batc  (None, 12, 12, 256)      1024      \n",
      " hNormalization)                                                 \n",
      "                                                                 \n",
      " conv3_4 (Conv2D)            (None, 12, 12, 256)       590080    \n",
      "                                                                 \n",
      " batch_normalization_8 (Batc  (None, 12, 12, 256)      1024      \n",
      " hNormalization)                                                 \n",
      "                                                                 \n",
      " pool3_1 (MaxPooling2D)      (None, 6, 6, 256)         0         \n",
      "                                                                 \n",
      " drop3_1 (Dropout)           (None, 6, 6, 256)         0         \n",
      "                                                                 \n",
      " conv4_1 (Conv2D)            (None, 6, 6, 256)         590080    \n",
      "                                                                 \n",
      " batch_normalization_9 (Batc  (None, 6, 6, 256)        1024      \n",
      " hNormalization)                                                 \n",
      "                                                                 \n",
      " conv4_2 (Conv2D)            (None, 6, 6, 256)         590080    \n",
      "                                                                 \n",
      " batch_normalization_10 (Bat  (None, 6, 6, 256)        1024      \n",
      " chNormalization)                                                \n",
      "                                                                 \n",
      " conv4_3 (Conv2D)            (None, 6, 6, 256)         590080    \n",
      "                                                                 \n",
      " batch_normalization_11 (Bat  (None, 6, 6, 256)        1024      \n",
      " chNormalization)                                                \n",
      "                                                                 \n",
      " conv4_4 (Conv2D)            (None, 6, 6, 256)         590080    \n",
      "                                                                 \n",
      " batch_normalization_12 (Bat  (None, 6, 6, 256)        1024      \n",
      " chNormalization)                                                \n",
      "                                                                 \n",
      " pool4_1 (MaxPooling2D)      (None, 3, 3, 256)         0         \n",
      "                                                                 \n",
      " drop4_1 (Dropout)           (None, 3, 3, 256)         0         \n",
      "                                                                 \n",
      " conv5_1 (Conv2D)            (None, 3, 3, 512)         1180160   \n",
      "                                                                 \n",
      " batch_normalization_13 (Bat  (None, 3, 3, 512)        2048      \n",
      " chNormalization)                                                \n",
      "                                                                 \n",
      " conv5_2 (Conv2D)            (None, 3, 3, 512)         2359808   \n",
      "                                                                 \n",
      " batch_normalization_14 (Bat  (None, 3, 3, 512)        2048      \n",
      " chNormalization)                                                \n",
      "                                                                 \n",
      " conv5_3 (Conv2D)            (None, 3, 3, 512)         2359808   \n",
      "                                                                 \n",
      " batch_normalization_15 (Bat  (None, 3, 3, 512)        2048      \n",
      " chNormalization)                                                \n",
      "                                                                 \n",
      " conv5_4 (Conv2D)            (None, 3, 3, 512)         2359808   \n",
      "                                                                 \n",
      " pool5_1 (MaxPooling2D)      (None, 1, 1, 512)         0         \n",
      "                                                                 \n",
      " drop5_1 (Dropout)           (None, 1, 1, 512)         0         \n",
      "                                                                 \n",
      " flatten (Flatten)           (None, 512)               0         \n",
      "                                                                 \n",
      " output (Dense)              (None, 7)                 3591      \n",
      "                                                                 \n",
      "=================================================================\n",
      "Total params: 13,111,367\n",
      "Trainable params: 13,103,431\n",
      "Non-trainable params: 7,936\n",
      "_________________________________________________________________\n",
      "None\n"
     ]
    },
    {
     "name": "stderr",
     "output_type": "stream",
     "text": [
      "/Users/opheliesabanowski/Desktop/lespypelettes/pypelette/pypelette_env/lib/python3.9/site-packages/keras/optimizers/optimizer_v2/adam.py:117: UserWarning: The `lr` argument is deprecated, use `learning_rate` instead.\n",
      "  super().__init__(name, **kwargs)\n"
     ]
    }
   ],
   "source": [
    "model = FER_Model()\n",
    "opt = Adam(lr=0.0001, decay=1e-6)\n",
    "model.compile(loss='categorical_crossentropy', optimizer=opt, metrics=['accuracy'])"
   ]
  },
  {
   "cell_type": "code",
   "execution_count": 21,
   "metadata": {
    "tags": []
   },
   "outputs": [],
   "source": [
    "from keras.callbacks import ModelCheckpoint\n",
    "filepath=\"weights_min_loss.hdf5\"\n",
    "checkpoint = ModelCheckpoint(filepath, monitor='val_loss', verbose=1, save_best_only=True, mode='min')\n",
    "callbacks_list = [checkpoint]"
   ]
  },
  {
   "cell_type": "code",
   "execution_count": 22,
   "metadata": {
    "tags": []
   },
   "outputs": [
    {
     "name": "stdout",
     "output_type": "stream",
     "text": [
      "Epoch 1/100\n"
     ]
    },
    {
     "name": "stderr",
     "output_type": "stream",
     "text": [
      "/var/folders/_r/h3rcv4k93wv7dlb_1fp8b1pr0000gn/T/ipykernel_78194/446143012.py:2: UserWarning: `Model.fit_generator` is deprecated and will be removed in a future version. Please use `Model.fit`, which supports generators.\n",
      "  history = model.fit_generator(train_flow,\n",
      "2023-03-27 16:15:43.828407: W tensorflow/tsl/platform/profile_utils/cpu_utils.cc:128] Failed to get CPU frequency: 0 Hz\n",
      "2023-03-27 16:15:44.796917: I tensorflow/core/grappler/optimizers/custom_graph_optimizer_registry.cc:114] Plugin optimizer for device_type GPU is enabled.\n",
      "2023-03-27 16:17:40.795467: I tensorflow/core/grappler/optimizers/custom_graph_optimizer_registry.cc:114] Plugin optimizer for device_type GPU is enabled.\n"
     ]
    },
    {
     "name": "stdout",
     "output_type": "stream",
     "text": [
      "\n",
      "Epoch 1: val_loss improved from inf to 2.01867, saving model to weights_min_loss.hdf5\n",
      "448/448 - 121s - loss: 2.0886 - accuracy: 0.2119 - val_loss: 2.0187 - val_accuracy: 0.2499 - 121s/epoch - 270ms/step\n",
      "Epoch 2/100\n",
      "\n",
      "Epoch 2: val_loss improved from 2.01867 to 1.96111, saving model to weights_min_loss.hdf5\n",
      "448/448 - 113s - loss: 1.8225 - accuracy: 0.2496 - val_loss: 1.9611 - val_accuracy: 0.2563 - 113s/epoch - 251ms/step\n",
      "Epoch 3/100\n",
      "\n",
      "Epoch 3: val_loss improved from 1.96111 to 1.72286, saving model to weights_min_loss.hdf5\n",
      "448/448 - 114s - loss: 1.7420 - accuracy: 0.2914 - val_loss: 1.7229 - val_accuracy: 0.3112 - 114s/epoch - 254ms/step\n",
      "Epoch 4/100\n",
      "\n",
      "Epoch 4: val_loss improved from 1.72286 to 1.70619, saving model to weights_min_loss.hdf5\n",
      "448/448 - 113s - loss: 1.6683 - accuracy: 0.3363 - val_loss: 1.7062 - val_accuracy: 0.3469 - 113s/epoch - 252ms/step\n",
      "Epoch 5/100\n",
      "\n",
      "Epoch 5: val_loss did not improve from 1.70619\n",
      "448/448 - 114s - loss: 1.5993 - accuracy: 0.3704 - val_loss: 1.7585 - val_accuracy: 0.3683 - 114s/epoch - 255ms/step\n",
      "Epoch 6/100\n",
      "\n",
      "Epoch 6: val_loss improved from 1.70619 to 1.51241, saving model to weights_min_loss.hdf5\n",
      "448/448 - 119s - loss: 1.5349 - accuracy: 0.4038 - val_loss: 1.5124 - val_accuracy: 0.4324 - 119s/epoch - 265ms/step\n",
      "Epoch 7/100\n",
      "\n",
      "Epoch 7: val_loss improved from 1.51241 to 1.43133, saving model to weights_min_loss.hdf5\n",
      "448/448 - 140s - loss: 1.4660 - accuracy: 0.4315 - val_loss: 1.4313 - val_accuracy: 0.4511 - 140s/epoch - 312ms/step\n",
      "Epoch 8/100\n",
      "\n",
      "Epoch 8: val_loss improved from 1.43133 to 1.37068, saving model to weights_min_loss.hdf5\n",
      "448/448 - 134s - loss: 1.4034 - accuracy: 0.4617 - val_loss: 1.3707 - val_accuracy: 0.4739 - 134s/epoch - 298ms/step\n",
      "Epoch 9/100\n",
      "\n",
      "Epoch 9: val_loss improved from 1.37068 to 1.30209, saving model to weights_min_loss.hdf5\n",
      "448/448 - 137s - loss: 1.3487 - accuracy: 0.4815 - val_loss: 1.3021 - val_accuracy: 0.4937 - 137s/epoch - 305ms/step\n",
      "Epoch 10/100\n",
      "\n",
      "Epoch 10: val_loss improved from 1.30209 to 1.23414, saving model to weights_min_loss.hdf5\n",
      "448/448 - 142s - loss: 1.2950 - accuracy: 0.5027 - val_loss: 1.2341 - val_accuracy: 0.5277 - 142s/epoch - 316ms/step\n",
      "Epoch 11/100\n",
      "\n",
      "Epoch 11: val_loss did not improve from 1.23414\n",
      "448/448 - 140s - loss: 1.2515 - accuracy: 0.5222 - val_loss: 1.2539 - val_accuracy: 0.5244 - 140s/epoch - 312ms/step\n",
      "Epoch 12/100\n",
      "\n",
      "Epoch 12: val_loss improved from 1.23414 to 1.17915, saving model to weights_min_loss.hdf5\n",
      "448/448 - 140s - loss: 1.2110 - accuracy: 0.5336 - val_loss: 1.1792 - val_accuracy: 0.5517 - 140s/epoch - 312ms/step\n",
      "Epoch 13/100\n",
      "\n",
      "Epoch 13: val_loss improved from 1.17915 to 1.16832, saving model to weights_min_loss.hdf5\n",
      "448/448 - 140s - loss: 1.1877 - accuracy: 0.5481 - val_loss: 1.1683 - val_accuracy: 0.5606 - 140s/epoch - 312ms/step\n",
      "Epoch 14/100\n",
      "\n",
      "Epoch 14: val_loss did not improve from 1.16832\n",
      "448/448 - 136s - loss: 1.1540 - accuracy: 0.5599 - val_loss: 1.1984 - val_accuracy: 0.5475 - 136s/epoch - 302ms/step\n",
      "Epoch 15/100\n",
      "\n",
      "Epoch 15: val_loss improved from 1.16832 to 1.11698, saving model to weights_min_loss.hdf5\n",
      "448/448 - 163s - loss: 1.1235 - accuracy: 0.5743 - val_loss: 1.1170 - val_accuracy: 0.5756 - 163s/epoch - 363ms/step\n",
      "Epoch 16/100\n",
      "\n",
      "Epoch 16: val_loss did not improve from 1.11698\n",
      "448/448 - 2014s - loss: 1.1025 - accuracy: 0.5816 - val_loss: 1.1701 - val_accuracy: 0.5603 - 2014s/epoch - 4s/step\n",
      "Epoch 17/100\n",
      "\n",
      "Epoch 17: val_loss did not improve from 1.11698\n",
      "448/448 - 114s - loss: 1.0837 - accuracy: 0.5902 - val_loss: 1.1261 - val_accuracy: 0.5723 - 114s/epoch - 253ms/step\n",
      "Epoch 18/100\n",
      "\n",
      "Epoch 18: val_loss improved from 1.11698 to 1.08360, saving model to weights_min_loss.hdf5\n",
      "448/448 - 112s - loss: 1.0581 - accuracy: 0.6023 - val_loss: 1.0836 - val_accuracy: 0.5899 - 112s/epoch - 250ms/step\n",
      "Epoch 19/100\n",
      "\n",
      "Epoch 19: val_loss did not improve from 1.08360\n",
      "448/448 - 113s - loss: 1.0391 - accuracy: 0.6059 - val_loss: 1.0939 - val_accuracy: 0.5893 - 113s/epoch - 252ms/step\n",
      "Epoch 20/100\n",
      "\n",
      "Epoch 20: val_loss did not improve from 1.08360\n",
      "448/448 - 113s - loss: 1.0247 - accuracy: 0.6122 - val_loss: 1.0949 - val_accuracy: 0.5915 - 113s/epoch - 253ms/step\n",
      "Epoch 21/100\n",
      "\n",
      "Epoch 21: val_loss improved from 1.08360 to 1.05918, saving model to weights_min_loss.hdf5\n",
      "448/448 - 114s - loss: 1.0053 - accuracy: 0.6200 - val_loss: 1.0592 - val_accuracy: 0.6013 - 114s/epoch - 253ms/step\n",
      "Epoch 22/100\n",
      "\n",
      "Epoch 22: val_loss did not improve from 1.05918\n",
      "448/448 - 113s - loss: 0.9884 - accuracy: 0.6281 - val_loss: 1.0638 - val_accuracy: 0.6002 - 113s/epoch - 251ms/step\n",
      "Epoch 23/100\n",
      "\n",
      "Epoch 23: val_loss improved from 1.05918 to 1.05315, saving model to weights_min_loss.hdf5\n",
      "448/448 - 116s - loss: 0.9744 - accuracy: 0.6318 - val_loss: 1.0532 - val_accuracy: 0.6155 - 116s/epoch - 258ms/step\n",
      "Epoch 24/100\n",
      "\n",
      "Epoch 24: val_loss improved from 1.05315 to 1.03057, saving model to weights_min_loss.hdf5\n",
      "448/448 - 132s - loss: 0.9612 - accuracy: 0.6362 - val_loss: 1.0306 - val_accuracy: 0.6138 - 132s/epoch - 293ms/step\n",
      "Epoch 25/100\n",
      "\n",
      "Epoch 25: val_loss improved from 1.03057 to 1.01578, saving model to weights_min_loss.hdf5\n",
      "448/448 - 137s - loss: 0.9432 - accuracy: 0.6457 - val_loss: 1.0158 - val_accuracy: 0.6239 - 137s/epoch - 304ms/step\n",
      "Epoch 26/100\n",
      "\n",
      "Epoch 26: val_loss did not improve from 1.01578\n",
      "448/448 - 132s - loss: 0.9247 - accuracy: 0.6502 - val_loss: 1.0424 - val_accuracy: 0.6130 - 132s/epoch - 294ms/step\n",
      "Epoch 27/100\n",
      "\n",
      "Epoch 27: val_loss improved from 1.01578 to 0.97890, saving model to weights_min_loss.hdf5\n",
      "448/448 - 126s - loss: 0.9149 - accuracy: 0.6560 - val_loss: 0.9789 - val_accuracy: 0.6364 - 126s/epoch - 282ms/step\n",
      "Epoch 28/100\n",
      "\n",
      "Epoch 28: val_loss improved from 0.97890 to 0.97723, saving model to weights_min_loss.hdf5\n",
      "448/448 - 134s - loss: 0.8994 - accuracy: 0.6605 - val_loss: 0.9772 - val_accuracy: 0.6442 - 134s/epoch - 299ms/step\n",
      "Epoch 29/100\n",
      "\n",
      "Epoch 29: val_loss did not improve from 0.97723\n",
      "448/448 - 130s - loss: 0.8874 - accuracy: 0.6675 - val_loss: 1.0842 - val_accuracy: 0.6002 - 130s/epoch - 289ms/step\n",
      "Epoch 30/100\n",
      "\n",
      "Epoch 30: val_loss improved from 0.97723 to 0.96759, saving model to weights_min_loss.hdf5\n",
      "448/448 - 142s - loss: 0.8714 - accuracy: 0.6724 - val_loss: 0.9676 - val_accuracy: 0.6400 - 142s/epoch - 317ms/step\n",
      "Epoch 31/100\n",
      "\n",
      "Epoch 31: val_loss did not improve from 0.96759\n",
      "448/448 - 150s - loss: 0.8624 - accuracy: 0.6770 - val_loss: 0.9830 - val_accuracy: 0.6428 - 150s/epoch - 335ms/step\n",
      "Epoch 32/100\n",
      "\n",
      "Epoch 32: val_loss improved from 0.96759 to 0.96344, saving model to weights_min_loss.hdf5\n",
      "448/448 - 151s - loss: 0.8509 - accuracy: 0.6840 - val_loss: 0.9634 - val_accuracy: 0.6512 - 151s/epoch - 338ms/step\n",
      "Epoch 33/100\n",
      "\n",
      "Epoch 33: val_loss did not improve from 0.96344\n",
      "448/448 - 158s - loss: 0.8370 - accuracy: 0.6872 - val_loss: 0.9852 - val_accuracy: 0.6406 - 158s/epoch - 352ms/step\n",
      "Epoch 34/100\n",
      "\n",
      "Epoch 34: val_loss did not improve from 0.96344\n",
      "448/448 - 162s - loss: 0.8285 - accuracy: 0.6902 - val_loss: 0.9698 - val_accuracy: 0.6439 - 162s/epoch - 360ms/step\n",
      "Epoch 35/100\n",
      "\n",
      "Epoch 35: val_loss improved from 0.96344 to 0.95588, saving model to weights_min_loss.hdf5\n",
      "448/448 - 162s - loss: 0.8168 - accuracy: 0.6909 - val_loss: 0.9559 - val_accuracy: 0.6481 - 162s/epoch - 360ms/step\n",
      "Epoch 36/100\n",
      "\n",
      "Epoch 36: val_loss did not improve from 0.95588\n",
      "448/448 - 158s - loss: 0.8026 - accuracy: 0.6988 - val_loss: 0.9822 - val_accuracy: 0.6503 - 158s/epoch - 353ms/step\n",
      "Epoch 37/100\n",
      "\n",
      "Epoch 37: val_loss did not improve from 0.95588\n",
      "448/448 - 165s - loss: 0.7898 - accuracy: 0.7033 - val_loss: 0.9733 - val_accuracy: 0.6498 - 165s/epoch - 367ms/step\n",
      "Epoch 38/100\n",
      "\n",
      "Epoch 38: val_loss did not improve from 0.95588\n",
      "448/448 - 163s - loss: 0.7767 - accuracy: 0.7072 - val_loss: 1.0127 - val_accuracy: 0.6512 - 163s/epoch - 364ms/step\n",
      "Epoch 39/100\n",
      "\n",
      "Epoch 39: val_loss improved from 0.95588 to 0.95146, saving model to weights_min_loss.hdf5\n",
      "448/448 - 156s - loss: 0.7694 - accuracy: 0.7112 - val_loss: 0.9515 - val_accuracy: 0.6565 - 156s/epoch - 349ms/step\n",
      "Epoch 40/100\n",
      "\n",
      "Epoch 40: val_loss did not improve from 0.95146\n",
      "448/448 - 154s - loss: 0.7542 - accuracy: 0.7155 - val_loss: 0.9528 - val_accuracy: 0.6498 - 154s/epoch - 343ms/step\n",
      "Epoch 41/100\n",
      "\n",
      "Epoch 41: val_loss did not improve from 0.95146\n",
      "448/448 - 155s - loss: 0.7419 - accuracy: 0.7214 - val_loss: 0.9676 - val_accuracy: 0.6523 - 155s/epoch - 346ms/step\n",
      "Epoch 42/100\n",
      "\n",
      "Epoch 42: val_loss improved from 0.95146 to 0.94506, saving model to weights_min_loss.hdf5\n",
      "448/448 - 159s - loss: 0.7339 - accuracy: 0.7254 - val_loss: 0.9451 - val_accuracy: 0.6656 - 159s/epoch - 355ms/step\n",
      "Epoch 43/100\n",
      "\n",
      "Epoch 43: val_loss did not improve from 0.94506\n",
      "448/448 - 177s - loss: 0.7169 - accuracy: 0.7318 - val_loss: 0.9990 - val_accuracy: 0.6556 - 177s/epoch - 394ms/step\n",
      "Epoch 44/100\n",
      "\n",
      "Epoch 44: val_loss did not improve from 0.94506\n",
      "448/448 - 183s - loss: 0.7098 - accuracy: 0.7335 - val_loss: 1.0020 - val_accuracy: 0.6576 - 183s/epoch - 409ms/step\n",
      "Epoch 45/100\n",
      "\n",
      "Epoch 45: val_loss did not improve from 0.94506\n",
      "448/448 - 171s - loss: 0.7009 - accuracy: 0.7378 - val_loss: 0.9812 - val_accuracy: 0.6590 - 171s/epoch - 381ms/step\n",
      "Epoch 46/100\n",
      "\n",
      "Epoch 46: val_loss did not improve from 0.94506\n",
      "448/448 - 163s - loss: 0.6875 - accuracy: 0.7446 - val_loss: 0.9599 - val_accuracy: 0.6712 - 163s/epoch - 363ms/step\n",
      "Epoch 47/100\n",
      "\n",
      "Epoch 47: val_loss did not improve from 0.94506\n",
      "448/448 - 154s - loss: 0.6752 - accuracy: 0.7426 - val_loss: 1.0109 - val_accuracy: 0.6615 - 154s/epoch - 344ms/step\n",
      "Epoch 48/100\n",
      "\n",
      "Epoch 48: val_loss did not improve from 0.94506\n",
      "448/448 - 164s - loss: 0.6677 - accuracy: 0.7509 - val_loss: 1.0169 - val_accuracy: 0.6606 - 164s/epoch - 366ms/step\n",
      "Epoch 49/100\n",
      "\n",
      "Epoch 49: val_loss did not improve from 0.94506\n",
      "448/448 - 160s - loss: 0.6547 - accuracy: 0.7535 - val_loss: 0.9986 - val_accuracy: 0.6578 - 160s/epoch - 356ms/step\n",
      "Epoch 50/100\n",
      "\n",
      "Epoch 50: val_loss did not improve from 0.94506\n",
      "448/448 - 163s - loss: 0.6453 - accuracy: 0.7598 - val_loss: 1.0103 - val_accuracy: 0.6570 - 163s/epoch - 363ms/step\n",
      "Epoch 51/100\n",
      "\n",
      "Epoch 51: val_loss did not improve from 0.94506\n",
      "448/448 - 166s - loss: 0.6374 - accuracy: 0.7586 - val_loss: 1.0119 - val_accuracy: 0.6656 - 166s/epoch - 369ms/step\n",
      "Epoch 52/100\n",
      "\n",
      "Epoch 52: val_loss did not improve from 0.94506\n",
      "448/448 - 155s - loss: 0.6252 - accuracy: 0.7658 - val_loss: 1.0167 - val_accuracy: 0.6670 - 155s/epoch - 345ms/step\n",
      "Epoch 53/100\n",
      "\n",
      "Epoch 53: val_loss did not improve from 0.94506\n",
      "448/448 - 160s - loss: 0.6146 - accuracy: 0.7715 - val_loss: 0.9927 - val_accuracy: 0.6662 - 160s/epoch - 358ms/step\n",
      "Epoch 54/100\n",
      "\n",
      "Epoch 54: val_loss did not improve from 0.94506\n",
      "448/448 - 154s - loss: 0.6063 - accuracy: 0.7744 - val_loss: 1.0343 - val_accuracy: 0.6553 - 154s/epoch - 343ms/step\n",
      "Epoch 55/100\n",
      "\n",
      "Epoch 55: val_loss did not improve from 0.94506\n",
      "448/448 - 153s - loss: 0.5917 - accuracy: 0.7790 - val_loss: 1.0506 - val_accuracy: 0.6729 - 153s/epoch - 340ms/step\n",
      "Epoch 56/100\n",
      "\n",
      "Epoch 56: val_loss did not improve from 0.94506\n",
      "448/448 - 152s - loss: 0.5835 - accuracy: 0.7833 - val_loss: 1.0391 - val_accuracy: 0.6704 - 152s/epoch - 338ms/step\n",
      "Epoch 57/100\n",
      "\n",
      "Epoch 57: val_loss did not improve from 0.94506\n",
      "448/448 - 155s - loss: 0.5752 - accuracy: 0.7854 - val_loss: 1.0295 - val_accuracy: 0.6721 - 155s/epoch - 346ms/step\n",
      "Epoch 58/100\n",
      "\n",
      "Epoch 58: val_loss did not improve from 0.94506\n",
      "448/448 - 155s - loss: 0.5655 - accuracy: 0.7895 - val_loss: 1.0765 - val_accuracy: 0.6581 - 155s/epoch - 346ms/step\n",
      "Epoch 59/100\n",
      "\n",
      "Epoch 59: val_loss did not improve from 0.94506\n",
      "448/448 - 157s - loss: 0.5598 - accuracy: 0.7908 - val_loss: 1.0731 - val_accuracy: 0.6687 - 157s/epoch - 350ms/step\n",
      "Epoch 60/100\n",
      "\n",
      "Epoch 60: val_loss did not improve from 0.94506\n",
      "448/448 - 161s - loss: 0.5456 - accuracy: 0.7966 - val_loss: 1.0780 - val_accuracy: 0.6651 - 161s/epoch - 359ms/step\n",
      "Epoch 61/100\n",
      "\n",
      "Epoch 61: val_loss did not improve from 0.94506\n",
      "448/448 - 156s - loss: 0.5341 - accuracy: 0.7997 - val_loss: 1.0677 - val_accuracy: 0.6620 - 156s/epoch - 349ms/step\n",
      "Epoch 62/100\n",
      "\n",
      "Epoch 62: val_loss did not improve from 0.94506\n",
      "448/448 - 151s - loss: 0.5254 - accuracy: 0.8047 - val_loss: 1.0760 - val_accuracy: 0.6659 - 151s/epoch - 337ms/step\n",
      "Epoch 63/100\n",
      "\n",
      "Epoch 63: val_loss did not improve from 0.94506\n",
      "448/448 - 149s - loss: 0.5188 - accuracy: 0.8067 - val_loss: 1.0900 - val_accuracy: 0.6732 - 149s/epoch - 331ms/step\n",
      "Epoch 64/100\n",
      "\n",
      "Epoch 64: val_loss did not improve from 0.94506\n",
      "448/448 - 144s - loss: 0.5085 - accuracy: 0.8112 - val_loss: 1.0391 - val_accuracy: 0.6779 - 144s/epoch - 322ms/step\n",
      "Epoch 65/100\n",
      "\n",
      "Epoch 65: val_loss did not improve from 0.94506\n",
      "448/448 - 140s - loss: 0.4974 - accuracy: 0.8139 - val_loss: 1.1538 - val_accuracy: 0.6592 - 140s/epoch - 313ms/step\n",
      "Epoch 66/100\n",
      "\n",
      "Epoch 66: val_loss did not improve from 0.94506\n",
      "448/448 - 141s - loss: 0.4922 - accuracy: 0.8173 - val_loss: 1.0789 - val_accuracy: 0.6773 - 141s/epoch - 314ms/step\n",
      "Epoch 67/100\n",
      "\n",
      "Epoch 67: val_loss did not improve from 0.94506\n",
      "448/448 - 144s - loss: 0.4802 - accuracy: 0.8226 - val_loss: 1.1393 - val_accuracy: 0.6631 - 144s/epoch - 322ms/step\n",
      "Epoch 68/100\n",
      "\n",
      "Epoch 68: val_loss did not improve from 0.94506\n",
      "448/448 - 150s - loss: 0.4826 - accuracy: 0.8173 - val_loss: 1.1233 - val_accuracy: 0.6640 - 150s/epoch - 334ms/step\n",
      "Epoch 69/100\n",
      "\n",
      "Epoch 69: val_loss did not improve from 0.94506\n",
      "448/448 - 143s - loss: 0.4660 - accuracy: 0.8284 - val_loss: 1.1465 - val_accuracy: 0.6682 - 143s/epoch - 320ms/step\n",
      "Epoch 70/100\n",
      "\n",
      "Epoch 70: val_loss did not improve from 0.94506\n",
      "448/448 - 144s - loss: 0.4576 - accuracy: 0.8302 - val_loss: 1.1331 - val_accuracy: 0.6721 - 144s/epoch - 320ms/step\n",
      "Epoch 71/100\n",
      "\n",
      "Epoch 71: val_loss did not improve from 0.94506\n",
      "448/448 - 144s - loss: 0.4501 - accuracy: 0.8328 - val_loss: 1.2497 - val_accuracy: 0.6523 - 144s/epoch - 322ms/step\n",
      "Epoch 72/100\n",
      "\n",
      "Epoch 72: val_loss did not improve from 0.94506\n",
      "448/448 - 150s - loss: 0.4468 - accuracy: 0.8360 - val_loss: 1.1379 - val_accuracy: 0.6651 - 150s/epoch - 334ms/step\n",
      "Epoch 73/100\n",
      "\n",
      "Epoch 73: val_loss did not improve from 0.94506\n",
      "448/448 - 146s - loss: 0.4383 - accuracy: 0.8404 - val_loss: 1.1611 - val_accuracy: 0.6695 - 146s/epoch - 326ms/step\n",
      "Epoch 74/100\n",
      "\n",
      "Epoch 74: val_loss did not improve from 0.94506\n",
      "448/448 - 143s - loss: 0.4319 - accuracy: 0.8413 - val_loss: 1.1051 - val_accuracy: 0.6740 - 143s/epoch - 319ms/step\n",
      "Epoch 75/100\n",
      "\n",
      "Epoch 75: val_loss did not improve from 0.94506\n",
      "448/448 - 143s - loss: 0.4253 - accuracy: 0.8424 - val_loss: 1.1437 - val_accuracy: 0.6712 - 143s/epoch - 320ms/step\n",
      "Epoch 76/100\n",
      "\n",
      "Epoch 76: val_loss did not improve from 0.94506\n",
      "448/448 - 138s - loss: 0.4054 - accuracy: 0.8492 - val_loss: 1.2029 - val_accuracy: 0.6687 - 138s/epoch - 308ms/step\n",
      "Epoch 77/100\n",
      "\n",
      "Epoch 77: val_loss did not improve from 0.94506\n",
      "448/448 - 142s - loss: 0.4095 - accuracy: 0.8482 - val_loss: 1.1812 - val_accuracy: 0.6712 - 142s/epoch - 317ms/step\n",
      "Epoch 78/100\n",
      "\n",
      "Epoch 78: val_loss did not improve from 0.94506\n",
      "448/448 - 140s - loss: 0.3987 - accuracy: 0.8520 - val_loss: 1.1847 - val_accuracy: 0.6537 - 140s/epoch - 313ms/step\n",
      "Epoch 79/100\n",
      "\n",
      "Epoch 79: val_loss did not improve from 0.94506\n",
      "448/448 - 139s - loss: 0.3923 - accuracy: 0.8552 - val_loss: 1.2025 - val_accuracy: 0.6559 - 139s/epoch - 311ms/step\n",
      "Epoch 80/100\n",
      "\n",
      "Epoch 80: val_loss did not improve from 0.94506\n",
      "448/448 - 141s - loss: 0.3868 - accuracy: 0.8555 - val_loss: 1.2346 - val_accuracy: 0.6665 - 141s/epoch - 314ms/step\n",
      "Epoch 81/100\n",
      "\n",
      "Epoch 81: val_loss did not improve from 0.94506\n",
      "448/448 - 145s - loss: 0.3717 - accuracy: 0.8636 - val_loss: 1.2121 - val_accuracy: 0.6785 - 145s/epoch - 323ms/step\n",
      "Epoch 82/100\n",
      "\n",
      "Epoch 82: val_loss did not improve from 0.94506\n",
      "448/448 - 141s - loss: 0.3775 - accuracy: 0.8609 - val_loss: 1.2239 - val_accuracy: 0.6773 - 141s/epoch - 314ms/step\n",
      "Epoch 83/100\n",
      "\n",
      "Epoch 83: val_loss did not improve from 0.94506\n",
      "448/448 - 141s - loss: 0.3726 - accuracy: 0.8634 - val_loss: 1.2916 - val_accuracy: 0.6631 - 141s/epoch - 315ms/step\n",
      "Epoch 84/100\n",
      "\n",
      "Epoch 84: val_loss did not improve from 0.94506\n",
      "448/448 - 143s - loss: 0.3592 - accuracy: 0.8652 - val_loss: 1.2566 - val_accuracy: 0.6726 - 143s/epoch - 318ms/step\n",
      "Epoch 85/100\n",
      "\n",
      "Epoch 85: val_loss did not improve from 0.94506\n",
      "448/448 - 124s - loss: 0.3554 - accuracy: 0.8698 - val_loss: 1.2538 - val_accuracy: 0.6695 - 124s/epoch - 276ms/step\n",
      "Epoch 86/100\n",
      "\n",
      "Epoch 86: val_loss did not improve from 0.94506\n",
      "448/448 - 115s - loss: 0.3401 - accuracy: 0.8741 - val_loss: 1.3865 - val_accuracy: 0.6551 - 115s/epoch - 256ms/step\n",
      "Epoch 87/100\n",
      "\n",
      "Epoch 87: val_loss did not improve from 0.94506\n",
      "448/448 - 3139s - loss: 0.3377 - accuracy: 0.8734 - val_loss: 1.3006 - val_accuracy: 0.6704 - 3139s/epoch - 7s/step\n",
      "Epoch 88/100\n",
      "\n",
      "Epoch 88: val_loss did not improve from 0.94506\n",
      "448/448 - 1667s - loss: 0.3398 - accuracy: 0.8761 - val_loss: 1.2688 - val_accuracy: 0.6746 - 1667s/epoch - 4s/step\n",
      "Epoch 89/100\n",
      "\n",
      "Epoch 89: val_loss did not improve from 0.94506\n",
      "448/448 - 112s - loss: 0.3307 - accuracy: 0.8778 - val_loss: 1.2962 - val_accuracy: 0.6718 - 112s/epoch - 249ms/step\n",
      "Epoch 90/100\n",
      "\n",
      "Epoch 90: val_loss did not improve from 0.94506\n",
      "448/448 - 111s - loss: 0.3239 - accuracy: 0.8809 - val_loss: 1.2573 - val_accuracy: 0.6737 - 111s/epoch - 247ms/step\n",
      "Epoch 91/100\n",
      "\n",
      "Epoch 91: val_loss did not improve from 0.94506\n",
      "448/448 - 112s - loss: 0.3136 - accuracy: 0.8825 - val_loss: 1.4369 - val_accuracy: 0.6637 - 112s/epoch - 249ms/step\n",
      "Epoch 92/100\n",
      "\n",
      "Epoch 92: val_loss did not improve from 0.94506\n",
      "448/448 - 112s - loss: 0.3129 - accuracy: 0.8834 - val_loss: 1.3202 - val_accuracy: 0.6818 - 112s/epoch - 250ms/step\n",
      "Epoch 93/100\n",
      "\n",
      "Epoch 93: val_loss did not improve from 0.94506\n",
      "448/448 - 113s - loss: 0.3084 - accuracy: 0.8866 - val_loss: 1.3601 - val_accuracy: 0.6787 - 113s/epoch - 251ms/step\n",
      "Epoch 94/100\n",
      "\n",
      "Epoch 94: val_loss did not improve from 0.94506\n",
      "448/448 - 115s - loss: 0.3090 - accuracy: 0.8852 - val_loss: 1.3350 - val_accuracy: 0.6726 - 115s/epoch - 256ms/step\n",
      "Epoch 95/100\n",
      "\n",
      "Epoch 95: val_loss did not improve from 0.94506\n",
      "448/448 - 114s - loss: 0.2966 - accuracy: 0.8892 - val_loss: 1.3702 - val_accuracy: 0.6737 - 114s/epoch - 253ms/step\n",
      "Epoch 96/100\n",
      "\n",
      "Epoch 96: val_loss did not improve from 0.94506\n",
      "448/448 - 116s - loss: 0.2938 - accuracy: 0.8907 - val_loss: 1.4098 - val_accuracy: 0.6673 - 116s/epoch - 258ms/step\n",
      "Epoch 97/100\n",
      "\n",
      "Epoch 97: val_loss did not improve from 0.94506\n",
      "448/448 - 117s - loss: 0.2855 - accuracy: 0.8960 - val_loss: 1.3981 - val_accuracy: 0.6704 - 117s/epoch - 261ms/step\n",
      "Epoch 98/100\n",
      "\n",
      "Epoch 98: val_loss did not improve from 0.94506\n",
      "448/448 - 118s - loss: 0.2864 - accuracy: 0.8950 - val_loss: 1.3282 - val_accuracy: 0.6712 - 118s/epoch - 263ms/step\n",
      "Epoch 99/100\n",
      "\n",
      "Epoch 99: val_loss did not improve from 0.94506\n",
      "448/448 - 120s - loss: 0.2794 - accuracy: 0.8979 - val_loss: 1.3899 - val_accuracy: 0.6746 - 120s/epoch - 268ms/step\n",
      "Epoch 100/100\n",
      "\n",
      "Epoch 100: val_loss did not improve from 0.94506\n",
      "448/448 - 124s - loss: 0.2837 - accuracy: 0.8964 - val_loss: 1.3803 - val_accuracy: 0.6704 - 124s/epoch - 276ms/step\n"
     ]
    }
   ],
   "source": [
    "num_epochs = 100  \n",
    "history = model.fit_generator(train_flow, \n",
    "                    steps_per_epoch=len(X_train) / batch_size, \n",
    "                    epochs=num_epochs,  \n",
    "                    verbose=2,  \n",
    "                    callbacks=callbacks_list,\n",
    "                    validation_data=test_flow,  \n",
    "                    validation_steps=len(X_test) / batch_size)"
   ]
  },
  {
   "cell_type": "code",
   "execution_count": null,
   "metadata": {},
   "outputs": [],
   "source": []
  }
 ],
 "metadata": {
  "kernelspec": {
   "display_name": "Python 3 (ipykernel)",
   "language": "python",
   "name": "python3"
  },
  "language_info": {
   "codemirror_mode": {
    "name": "ipython",
    "version": 3
   },
   "file_extension": ".py",
   "mimetype": "text/x-python",
   "name": "python",
   "nbconvert_exporter": "python",
   "pygments_lexer": "ipython3",
   "version": "3.9.7"
  }
 },
 "nbformat": 4,
 "nbformat_minor": 4
}
